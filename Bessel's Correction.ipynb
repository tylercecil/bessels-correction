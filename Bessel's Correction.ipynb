{
 "cells": [
  {
   "cell_type": "code",
   "execution_count": 1,
   "metadata": {},
   "outputs": [],
   "source": [
    "import numpy as np\n",
    "import matplotlib.pyplot as pyplot"
   ]
  },
  {
   "cell_type": "markdown",
   "metadata": {},
   "source": [
    "# The Curious Case of Population Variance\n",
    "\n",
    "Let's remind ourselves about the definition of variance: \n",
    "\n",
    "$$ \\text{Var}(X) = E[ (X - \\mu)^2 ] $$\n",
    "\n",
    "That is, it's the expected difference squared between an random variable $X$ and its mean, $\\mu$.\n",
    "This is Prob 'n Stats Day 1 stuff.\n",
    "\n",
    "Obviously, in most situations we don't actually know the parameters of our probability\n",
    "distribution. Instead we have some sample data $X_1, \\ldots, X_n$. With our sample population,\n",
    "we try to estimate the parameters of our PDF. The most obvious example is estimating $\\mu$:\n",
    "\n",
    "$$ \\overline{X} = \\frac{1}{n} \\sum_{i=1}^n X_i $$\n",
    "\n",
    "I would also guess that the average person would estimate variance in more-or-less the same way\n",
    "\n",
    "$$ s^2_n = \\frac{1}{n} \\sum_{i=1}^n (X_i - \\overline{X})^2 $$\n",
    "\n",
    "And that person (like me) might be shocked to learn that $s^2_n$ (the *uncorrected sample variance*) **is\n",
    "a biased estimator!** It will, in fact, consistently *underestimate* the true variance of the\n",
    "population! Allow me to demonstrate..."
   ]
  },
  {
   "cell_type": "code",
   "execution_count": 2,
   "metadata": {},
   "outputs": [],
   "source": [
    "# `samples` is 100000 rows of 50 columns, each drawn from a\n",
    "# normal distribution with μ = 0 and σ^2 = 1.\n",
    "#\n",
    "# Each row is represents an experiment with 50 observations\n",
    "samples = np.random.normal(0, 1, (50, 100000))"
   ]
  },
  {
   "cell_type": "code",
   "execution_count": 3,
   "metadata": {},
   "outputs": [],
   "source": [
    "def uncorrected_variance(sample):\n",
    "    \"\"\" Given a sample populations, computes the uncorrected\n",
    "    sample variance:\n",
    "\n",
    "    s^2_n = (1 / n) Sum( (x_i - μ)^2 )\n",
    "    \"\"\"\n",
    "    n = sample.size\n",
    "    μ = sample.mean()\n",
    "    s = np.sum(np.vectorize(lambda xi: (xi - μ)**2)(sample)) / n\n",
    "    return s"
   ]
  },
  {
   "cell_type": "code",
   "execution_count": 4,
   "metadata": {},
   "outputs": [],
   "source": [
    "s_uncorrected = np.apply_along_axis(uncorrected_variance, 0, samples)"
   ]
  },
  {
   "cell_type": "code",
   "execution_count": 5,
   "metadata": {},
   "outputs": [],
   "source": [
    "def plot_variance_exp(variances, true_μ=1):\n",
    "    mean = variances.mean()\n",
    "    lbl = str.format(\"Mean: {0:.4f}\\nBiase: {1:.4f}\", mean, mean - true_μ)\n",
    "    pyplot.hist(variances, bins=25, alpha=0.5)\n",
    "    pyplot.axvline(mean, color='b', linestyle='dashed')\n",
    "    pyplot.text(x=1.5, y=10000, s=lbl)\n",
    "    return None"
   ]
  },
  {
   "cell_type": "code",
   "execution_count": 6,
   "metadata": {},
   "outputs": [
    {
     "data": {
      "image/png": "[encoded data removed]",
      "text/plain": [
       "<Figure size 432x288 with 1 Axes>"
      ]
     },
     "metadata": {
      "needs_background": "light"
     },
     "output_type": "display_data"
    }
   ],
   "source": [
    "plot_variance_exp(s_uncorrected)"
   ]
  },
  {
   "cell_type": "markdown",
   "metadata": {},
   "source": [
    "**After running 100,000 experiments, being off by 2% sure seems like a lot!** And again, it's not just wrong, but consistently too small!"
   ]
  },
  {
   "cell_type": "markdown",
   "metadata": {},
   "source": [
    "## Correcting the Bias\n",
    "\n",
    "Before we get to *why* $s^2_n$ is biased, let's actually start with the correction,\n",
    "and work backwards from there. As it happens, $s^2_n$ will be off by a factor of $\\frac{n}{n - 1}$. \n",
    "This factor is known as *Bessel's correction* (what a guy, Bessel...). Scaling up\n",
    "the uncorrected variance estimation by this factor gives us our corrected (and unbiased)\n",
    "variance estimator, $s^2_{n-1}$.\n",
    "\n",
    "$$ s^2_{n - 1} = \\frac{n}{n - 1} s^2_n = \\frac{1}{n -1} \\sum_{i=1}^n (X_i - \\overline{X})^2 $$\n",
    "\n",
    "This new estimator is unbaised --- I wouldn't lie to you about that! But let's run another\n",
    "experiment, just to make ourselves feel better."
   ]
  },
  {
   "cell_type": "code",
   "execution_count": 7,
   "metadata": {},
   "outputs": [],
   "source": [
    "def bessel_variance(sample):\n",
    "    \"\"\"Given a sample population, computes the corrected\n",
    "    sample variance:\n",
    "\n",
    "    s^2_(n-1) = (1 / (n - 1)) Sum( (x_i - μ)^2 )\n",
    "    \"\"\"\n",
    "    n = sample.size\n",
    "    μ = sample.mean()\n",
    "    s = np.sum(np.vectorize(lambda xi: (xi - μ)**2)(sample)) / (n - 1)\n",
    "    return s"
   ]
  },
  {
   "cell_type": "code",
   "execution_count": 8,
   "metadata": {},
   "outputs": [],
   "source": [
    "s_corrected = np.apply_along_axis(bessel_variance, 0, samples)"
   ]
  },
  {
   "cell_type": "code",
   "execution_count": 9,
   "metadata": {},
   "outputs": [
    {
     "data": {
      "image/png": "[encoded data removed]",
      "text/plain": [
       "<Figure size 432x288 with 1 Axes>"
      ]
     },
     "metadata": {
      "needs_background": "light"
     },
     "output_type": "display_data"
    }
   ],
   "source": [
    "plot_variance_exp(s_corrected)"
   ]
  },
  {
   "cell_type": "markdown",
   "metadata": {},
   "source": [
    "That's more like it, huh! Now we're seeing $\\overline{s^2_{n-1}}$ being within 0.01% of the true $\\text{Var}(X)$."
   ]
  },
  {
   "cell_type": "markdown",
   "metadata": {},
   "source": [
    "## So... What Just Happened?\n",
    "\n",
    "I have to admit, this kinda blew me away at first. I just happened to read somewhere \"of course, the naive $s^2_n$ estimator is biased\", and had to do a double take. I even pulled out my university Prob & Stats textbook to see if we learned this (as it happens, the book just defines $s^2_{n-1}$, and says you should use that on the problem sets with no explanation...)\n",
    "\n",
    "It is a very well known correction, though; I just seem to have missed the memo.\n",
    "\n",
    "Luckily, though, it's actually pretty simple to explain what went wrong with $s^2_n$. To start, I'll give a high-level explanation for the source of our bias.\n",
    "\n",
    "### High-Level Problem\n",
    "\n",
    "There are two terms used to describe how \"far-off\" some $X_i$ was from the \"theoretical value\". \n",
    "\n",
    "|                 |                             |\n",
    "|-----------------|-----------------------------|\n",
    "| **Errors:**     | $e_i = X_i - \\mu$           |\n",
    "| **Residuals:**  | $r_i = X_i - \\overline{X}$ |\n",
    "\n",
    "Often in experiments, the true $\\mu$ is unknown to us, and we are forced to estimate it with $\\overline{X}$. This means, in an experiment, we can measure the residuals but we **may not be able to measure the errors.**\n",
    "\n",
    "Because $\\text{Var}(X) = E[ (X - \\mu)^2 ]$, *variance is the expected value of the sum of the squared errors.* But we didn't know the errors! We used the residuals instead. How well would things have worked if we knew the true errors, and not just the residuals?"
   ]
  },
  {
   "cell_type": "code",
   "execution_count": 10,
   "metadata": {},
   "outputs": [],
   "source": [
    "def error_variance(sample):\n",
    "    \"\"\" Given a sample populations, computes the sample variance\n",
    "    as the MSE. To measure the errors, we must know that μ=0.\n",
    "\n",
    "    s^2_n = (1 / n) Sum( (x_i - μ)^2 )\n",
    "    \"\"\"\n",
    "    n = sample.size\n",
    "    μ = 0\n",
    "    s = np.sum(np.vectorize(lambda xi: (xi - μ)**2)(sample)) / n\n",
    "    return s"
   ]
  },
  {
   "cell_type": "code",
   "execution_count": 11,
   "metadata": {},
   "outputs": [],
   "source": [
    "s_errors = np.apply_along_axis(error_variance, 0, samples)"
   ]
  },
  {
   "cell_type": "code",
   "execution_count": 12,
   "metadata": {},
   "outputs": [
    {
     "data": {
      "image/png": "[encoded data removed]",
      "text/plain": [
       "<Figure size 432x288 with 1 Axes>"
      ]
     },
     "metadata": {
      "needs_background": "light"
     },
     "output_type": "display_data"
    }
   ],
   "source": [
    "plot_variance_exp(s_errors)"
   ]
  },
  {
   "cell_type": "markdown",
   "metadata": {},
   "source": [
    "This, in fact, gives us an unbiased estimator! **So obviously the secret lies in the difference between errors and residuals.**\n",
    "\n",
    "$X_i - \\mu$ and $X_i - \\overline{X}$ don't seem that different, especially considering $\\overline{X}$ is an estimator for $\\mu$. As an estimator, though, $\\overline{X}$ is itself a random variable. The crux is that $X_i$ and $\\overline{X}$ **are not independent variables!** A small part of $X_i$ is \"inside\" $\\overline{X}$. So even though we are adding $n$ terms together, we actually only have $n-1$ degrees of freedom between those terms.\n",
    "\n",
    "Put even more exactly, our uncorrected estimator is being drawn from a chi-squared distribution with only $n-1$ degrees of freedom.\n",
    "\n",
    "$$ \\frac{1}{\\sigma^2} \\sum r_i^2 \\sim \\chi^2_{n-1} $$"
   ]
  },
  {
   "cell_type": "markdown",
   "metadata": {},
   "source": [
    "### But Where is the Bias Coming From?\n",
    "\n",
    "Once we realize that the relationship between any $X_i$ and $\\overline{X}$, we can quickly break things down and see where this bias is coming from. We've already noted that the true variance can be estimated as $\\frac{1}{n} \\sum_i e_i^2$. We're going to be using the residuals, however, which begs the question \"what's the relationship between $e_i$ and $r_i$?\"\n",
    "\n",
    "$$ e_i = \\underbrace{(X_i - \\overline{X})}_{r_i} + (\\overline{X} - \\mu) $$\n",
    "\n",
    "$$\n",
    "\\begin{align*}\n",
    "  \\frac{1}{n} \\sum_i e_i^2 &= \\frac{1}{n} \\sum_i (r_i + (\\overline{X} - \\mu))^2\\\\\n",
    "  &= \\frac{1}{n} \\sum_i \\left (r_i^2 + 2r_i(\\overline{X} - \\mu) + (\\overline{X} - \\mu)^2 \\right )\\\\\n",
    "  &= \\frac{1}{n} \\left[ \\sum_i \\left( r_i^2 \\right) + 2 \\sum_i \\left( r_i(\\overline{X} - \\mu) \\right) + n(\\overline{X} - \\mu)^2 \\right]\n",
    "\\end{align*}\n",
    "$$\n",
    "\n",
    "The first term is our \"uncorrected estimator\" (the mean of the residuals, rather than the errors). I want to dive into the middle term quickly, where we will see this interaction between $X_i$ and $\\overline{X}$ play out.\n",
    "\n",
    "$$\n",
    "\\begin{align*}\n",
    "    \\sum_i r_i(\\overline{X} - \\mu) &= \\sum_i (X_i - \\overline{X})(\\overline{X} - \\mu)\\\\\n",
    "    &= \\sum_i \\left( \\overline{X}X_i - X_i\\mu - \\overline{X}^2 + \\overline{X}\\mu \\right)\\\\\n",
    "    &= \\overline{X} \\sum X_i - \\mu \\sum X_i - n \\overline{X}^2 + n\\mu\\overline{X}\\\\\n",
    "\\end{align*}\n",
    "$$\n",
    "\n",
    "Now, of course $\\overline{X} = \\frac{1}{n} \\sum X_i$...\n",
    "\n",
    "$$\n",
    "\\begin{align*}\n",
    "    &= n \\overline{X}^2 - n\\mu\\overline{X} - n\\overline{X}^2 + n\\mu\\overline{X}\\\\\n",
    "    &= 0\n",
    "\\end{align*}\n",
    "$$\n",
    "\n",
    "Finally, we are left with a big fat bias staring back at us...\n",
    "\n",
    "$$\n",
    "\\begin{align*}\n",
    "    \\frac{1}{n} \\sum e_i &= \\frac{1}{n} \\sum r_i^2 + (\\overline{X} - \\mu)^2\\\\\n",
    "    &= s^2_n + (\\overline{X} - \\mu)^2\n",
    "\\end{align*}\n",
    "$$"
   ]
  },
  {
   "cell_type": "markdown",
   "metadata": {},
   "source": [
    "### How Does $n - 1$ Fix This?\n",
    "\n",
    "Well, we know that $E\\left[ \\frac{1}{n} \\sum e_i \\right] = \\sigma^2$, right? Then let's take a look at the last line from above...\n",
    "\n",
    "$$\n",
    "\\begin{align*}\n",
    "    E\\left[ \\frac{1}{n} \\sum e_i \\right] &= E[s^2_n] + E[(\\overline{X} - \\mu)^2]\\\\\n",
    "    \\sigma^2 &= E[s^2_n] + \\frac{\\sigma^2}{n}\\\\\n",
    "    E[s^2_n] &= \\frac{n - 1}{n} \\sigma^2\n",
    "\\end{align*}\n",
    "$$\n",
    "\n",
    "And there it is! Simply scaling up by $\\frac{n}{n - 1}$ will yield an unbiased estimator!"
   ]
  },
  {
   "cell_type": "markdown",
   "metadata": {},
   "source": [
    "## So Always Use $s^2_{n-1}$?\n",
    "\n",
    "That sure would make life simple, huh? Well I have bad news --- the unbiased estimator will, in fact, yield a worse *mean squared error.* Here's another simulation to demonstrate."
   ]
  },
  {
   "cell_type": "code",
   "execution_count": 13,
   "metadata": {},
   "outputs": [],
   "source": [
    "def MSE(estimates, θ=1):\n",
    "    \"\"\"Calculates the MSE of a set of estimates against a known θ.\"\"\"\n",
    "    n = estimates.size\n",
    "    mse = np.sum(np.vectorize(lambda ti: (ti - θ)**2)(estimates)) / (n)\n",
    "    return mse"
   ]
  },
  {
   "cell_type": "code",
   "execution_count": 14,
   "metadata": {},
   "outputs": [
    {
     "name": "stdout",
     "output_type": "stream",
     "text": [
      "Uncorrected MSE:  0.039765490470560265\n",
      "Corrected MSE:    0.04101443329481074\n",
      "Percent Increase: 3.1407705763747864\n"
     ]
    }
   ],
   "source": [
    "mse_uncorrected, mse_corrected = MSE(s_uncorrected), MSE(s_corrected)\n",
    "print(\"Uncorrected MSE:  \" + str(mse_uncorrected))\n",
    "print(\"Corrected MSE:    \" + str(mse_corrected))\n",
    "print(\"Percent Increase: \" +\n",
    "      str(100 * (mse_corrected - mse_uncorrected) / mse_uncorrected))"
   ]
  },
  {
   "cell_type": "markdown",
   "metadata": {},
   "source": [
    "## The MSE of Variance Estimators\n",
    "\n",
    "A 4% increase in MSE... we just can't win, can we!? \n",
    "\n",
    "> \"So to minimize bias use $s^2_{n-1}$, and to minimize error use $s^2_n$?\"\n",
    "\n",
    "My friend, meet $s^2_{n+1}$..."
   ]
  },
  {
   "cell_type": "code",
   "execution_count": 15,
   "metadata": {},
   "outputs": [],
   "source": [
    "def mse_min_variance(sample):\n",
    "    \"\"\"Given a sample population, computes the sample variance,\n",
    "    minimizing the MSE (for a normal distribution).\n",
    "\n",
    "    s^2_(n+1) = (1 / (n + 1)) Sum( (x_i - μ)^2 )\n",
    "    \"\"\"\n",
    "    n = sample.size\n",
    "    μ = sample.mean()\n",
    "    s = np.sum(np.vectorize(lambda xi: (xi - μ)**2)(sample)) / (n + 1)\n",
    "    return s"
   ]
  },
  {
   "cell_type": "code",
   "execution_count": 16,
   "metadata": {},
   "outputs": [],
   "source": [
    "s_mse_min = np.apply_along_axis(mse_min_variance, 0, samples)"
   ]
  },
  {
   "cell_type": "code",
   "execution_count": 17,
   "metadata": {},
   "outputs": [
    {
     "data": {
      "image/png": "[encoded data removed]",
      "text/plain": [
       "<Figure size 432x288 with 1 Axes>"
      ]
     },
     "metadata": {
      "needs_background": "light"
     },
     "output_type": "display_data"
    }
   ],
   "source": [
    "plot_variance_exp(s_mse_min)"
   ]
  },
  {
   "cell_type": "code",
   "execution_count": 18,
   "metadata": {},
   "outputs": [
    {
     "data": {
      "text/plain": [
       "0.03935094118106912"
      ]
     },
     "execution_count": 18,
     "metadata": {},
     "output_type": "execute_result"
    }
   ],
   "source": [
    "MSE(s_mse_min)"
   ]
  },
  {
   "cell_type": "markdown",
   "metadata": {},
   "source": [
    "As it happens, for a normal distribution, $s^2_{n + 1}$ will minimize our MSE. As is often the case in modeling and statistics, we have a trade-off to consider. Should we minimize the bias, or the MSE?\n",
    "\n",
    "I should warn you, however, **$s^2_{n+1}$ will only minimize the MSE with a normal distribution.** Different distributions will have their own optimal error-reducing estimators. Answering \"why\" is really a matter of crunching the numbers --- I don't think I can explain it better than [Wikipedia does](https://en.wikipedia.org/wiki/Mean_squared_error#Variance), but for completeness sake, let's put the results here.\n",
    "\n",
    "We can take a variance estimator $s^2_a = \\frac{1}{a} \\sum (X_i - \\overline{X})$, and calculate it's MSE. This works out to (just trust me on this one):\n",
    "\n",
    "$$\n",
    "\\text{MSE}(s^2_a) = \\frac{n - 1}{na^2} ((n - 1) \\gamma_2 + n^2 + n)\\sigma^4 - 2 \\left( \\frac{n-1}{a} \\right) \\sigma^4 + \\sigma^4\n",
    "$$\n",
    "\n",
    "A bit of a mouthful, but ok. $\\gamma_2$ here, by the way, is the *excess kurtosis* of this distribution (a measure of how \"tailed\" a distribution is). This is the kind of number that you could easily find for any distribution.\n",
    "\n",
    "Now, to find the optimal $s^2_a$ for some distribution, we simply minimize the MSE function, which happens when\n",
    "\n",
    "$$\n",
    "a = n + 1 + \\frac{n - 1}{n} \\gamma_2\n",
    "$$\n",
    "\n",
    "The normal distribution has $\\gamma_2 = 0$, which is where our $a = n + 1$ is coming from. If we were drawing from a Bernoilli distribution, however, $\\gamma_2 = -2$, and we'd find $a = n - 1 + \\frac{2}{n}$."
   ]
  },
  {
   "cell_type": "markdown",
   "metadata": {},
   "source": [
    "## That's All, Fokes!\n",
    "\n",
    "It's when the most mundane things don't work as you'd expect that always seem the most exciting. I *might* be the last person to have gotten the memo on variance estimation. If not, though, I hope some of you were just as take by it as me.\n",
    "\n",
    "Thanks for reading, and as always, leave a comment, and let me know your thoughts, questions, or comments!"
   ]
  }
 ],
 "metadata": {
  "kernelspec": {
   "display_name": "DataScience-Py3",
   "language": "python",
   "name": "datascience-py3"
  },
  "language_info": {
   "codemirror_mode": {
    "name": "ipython",
    "version": 3
   },
   "file_extension": ".py",
   "mimetype": "text/x-python",
   "name": "python",
   "nbconvert_exporter": "python",
   "pygments_lexer": "ipython3",
   "version": "3.8.2"
  }
 },
 "nbformat": 4,
 "nbformat_minor": 2
}
